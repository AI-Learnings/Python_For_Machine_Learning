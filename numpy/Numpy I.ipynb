{
 "cells": [
  {
   "cell_type": "markdown",
   "metadata": {},
   "source": [
    "# Numpy - Tutorial 1"
   ]
  },
  {
   "cell_type": "markdown",
   "metadata": {},
   "source": [
    "Numpy or numeric python is a library for multidimensional array objects and it's operation. It replace the matlab for mathematics related operations and faster than normal python list. Because python list store heterogeneous types, doesn't use contigeous memeory and finally store some additional information of the element like where it's stored and references, data types etc. But numpy only stores the same type of data in contigeous memory block.\n",
    "\n",
    "Numpy can perform mathematical operations as well as multidimensional array operation. It's the base of various other libraries like pandas and matplotlib.\n",
    "\n",
    "It can be installed by : pip install numpy."
   ]
  },
  {
   "cell_type": "markdown",
   "metadata": {},
   "source": [
    "## ndarray\n",
    "NdArray is the main object of numpy. It describes the collection of items of the same type which can be accessed by using indices. Every item in the ndarray takes the same size of block in the memory. Each item in the ndarray is the object of data type object. To create an array:\n",
    "\n",
    "numpy.array(object, dtype = None, copy = True, order = None, subok = False, ndmin = 0)\n",
    "\n",
    "object: Sequence which will be converted to a numpy array<br>\n",
    "dtype: desired data type.<br>\n",
    "copy: To copy the object, by default true.<br>\n",
    "order: C for row major, F for column major or A for any major(default)<br>\n",
    "subok : By default, returned array forced to be a base class array. If true, sub-classes passed through<br>\n",
    "ndim: minimum dimension of the resultant array.<br>\n",
    "\n",
    "## Data types\n",
    "There are several data types in numpy. Those are:<br>\n",
    "1. bool: For boolean values<br>\n",
    "2. int_ : default int type (int64 or int32)<br>\n",
    "3. Other integers like: intc, inp, int8, int16, int32 or int64.<br>\n",
    "4. Unsigned integer: uint8, uint16, uint32, uint64.<br>\n",
    "5. Float: float_ for standard float and others like float16, float32, float64.<br>\n",
    "6. complex data type: complex_, complex64, complex128<br>"
   ]
  },
  {
   "cell_type": "markdown",
   "metadata": {},
   "source": [
    "## Attributes \n",
    "Suppose arr is an array object. Then the following attributes are:<br>\n",
    "1. arr.shape: shape of the array (row, col)<br>\n",
    "2. arr.ndim: dimension of array<br>\n",
    "3. arr.itemsize: Length of each item in bytes.<br>\n",
    "\n",
    "## Creation of numpy arrays\n",
    "\n",
    "1. To create uninitialised numpy arrays: numpy.empty(shape, dtype = float, order = 'C')<br>\n",
    "2. To create an array filled with zeros: numpy.zeros(shape, dtype = float, order = 'C')<br>\n",
    "3. To create an array filled with ones: numpy.ones(shape, dtype = float, order = 'C')<br>\n",
    "4. To create from nested lists or tuples: numpy.asarray(a, dtype = None, order = None)<br>\n",
    "5. This can create an array from buffer: numpy.frombuffer(buffer, dtype = float, count = -1, offset = 0)<br>\n",
    "6. To create array from iterables: numpy.fromiter(iterable, dtype, count = -1)<br>\n",
    "7. To generate an array of evenly spaced values: numpy.arange(start, stop, step, dtype)<br>\n",
    "8. To generate an array of evenly spaced given number of elements: numpy.linspace(start, stop, num, endpoint, retstep, dtype)<br>\n",
    "9. To generate arrays of evenly spaced numbers on logscale: numpy.logspace(start, stop, num, endpoint, base, dtype)<br>\n",
    "10. To create array: np.array(seq, Flags)"
   ]
  },
  {
   "cell_type": "code",
   "execution_count": null,
   "metadata": {},
   "outputs": [],
   "source": []
  }
 ],
 "metadata": {
  "kernelspec": {
   "display_name": "Python 3",
   "language": "python",
   "name": "python3"
  },
  "language_info": {
   "codemirror_mode": {
    "name": "ipython",
    "version": 3
   },
   "file_extension": ".py",
   "mimetype": "text/x-python",
   "name": "python",
   "nbconvert_exporter": "python",
   "pygments_lexer": "ipython3",
   "version": "3.8.5"
  }
 },
 "nbformat": 4,
 "nbformat_minor": 4
}
